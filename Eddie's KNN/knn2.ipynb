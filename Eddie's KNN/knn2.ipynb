{
 "cells": [
  {
   "cell_type": "code",
   "execution_count": 396,
   "metadata": {},
   "outputs": [],
   "source": [
    "import pandas as pd\n",
    "import numpy as np\n",
    "import math \n"
   ]
  },
  {
   "cell_type": "code",
   "execution_count": 5,
   "metadata": {},
   "outputs": [],
   "source": [
    "\n",
    "                    "
   ]
  },
  {
   "cell_type": "code",
   "execution_count": null,
   "metadata": {},
   "outputs": [],
   "source": []
  },
  {
   "cell_type": "code",
   "execution_count": 6,
   "metadata": {},
   "outputs": [],
   "source": [
    "\n"
   ]
  },
  {
   "cell_type": "code",
   "execution_count": 7,
   "metadata": {},
   "outputs": [],
   "source": [
    "\n"
   ]
  },
  {
   "cell_type": "code",
   "execution_count": 90,
   "metadata": {},
   "outputs": [],
   "source": [
    "\n"
   ]
  },
  {
   "cell_type": "code",
   "execution_count": 91,
   "metadata": {},
   "outputs": [],
   "source": [
    "\n"
   ]
  },
  {
   "cell_type": "code",
   "execution_count": 124,
   "metadata": {},
   "outputs": [],
   "source": [
    "\n"
   ]
  },
  {
   "cell_type": "code",
   "execution_count": null,
   "metadata": {},
   "outputs": [],
   "source": []
  },
  {
   "cell_type": "code",
   "execution_count": null,
   "metadata": {},
   "outputs": [],
   "source": [
    "\n",
    "\n",
    "\n"
   ]
  },
  {
   "cell_type": "code",
   "execution_count": null,
   "metadata": {},
   "outputs": [],
   "source": [
    "\n"
   ]
  },
  {
   "cell_type": "code",
   "execution_count": null,
   "metadata": {},
   "outputs": [],
   "source": [
    "\n",
    "\n",
    "\n"
   ]
  },
  {
   "cell_type": "code",
   "execution_count": null,
   "metadata": {},
   "outputs": [],
   "source": [
    "\n"
   ]
  },
  {
   "cell_type": "code",
   "execution_count": 397,
   "metadata": {},
   "outputs": [],
   "source": [
    "def rmsle(y_pred, y_test) : \n",
    "    assert len(y_test) == len(y_pred)\n",
    "    return np.sqrt(np.mean((np.log(1+y_pred) - np.log(1+y_test))**2))\n"
   ]
  },
  {
   "cell_type": "code",
   "execution_count": 398,
   "metadata": {},
   "outputs": [
    {
     "name": "stdout",
     "output_type": "stream",
     "text": [
      "[192107.425 267652.525 233953.125 ... 221308.325 180218.75  170120.   ]\n"
     ]
    }
   ],
   "source": [
    "#import training data set\n",
    "rawData=pd.read_csv(\"./all/train.csv\")\n",
    "salePrice1 = rawData[[\"SalePrice\"]]\n",
    "#select features\n",
    "myData = rawData[[\"MoSold\",\"LotArea\"]]\n",
    "#import test data set\n",
    "testData = pd.read_csv(\"./all/test.csv\")\n",
    "myTest1 = testData[[\"MoSold\",\"LotArea\"]]\n",
    "def uniformKNN(myTest, trainingData, Y_train, k, prediction, testSet=None):\n",
    "    testLength = myTest.shape[0]\n",
    "    trainLenth = trainingData.shape[0]\n",
    "    #convert it into a matrix \n",
    "    Y_train = np.array(Y_train)\n",
    "    trainingData = np.array(trainingData)\n",
    "    myTest = np.array(myTest)\n",
    "    #matrix substraction and reshape\n",
    "    newArray = ((myTest[:,np.newaxis] - trainingData)**2).reshape(-1, myTest.shape[1])\n",
    "    #sum up each row\n",
    "    newArray2 = newArray.sum(axis=1)\n",
    "    #take square root\n",
    "    newArray2 = newArray2**(1/2)\n",
    "    #reshape the matrix\n",
    "    array2 = newArray2.reshape(testLength,trainLenth)\n",
    "    #sort each row and display by index\n",
    "    getIndex = np.argsort(array2)\n",
    "    #take the K nearest neighbors\n",
    "    getIndex2 = getIndex[:,:k]\n",
    "    Y_train = Y_train.reshape(1,-1)\n",
    "    #query the house price\n",
    "    housePrice = Y_train[0][getIndex2]\n",
    "    if prediction == \"Y\":\n",
    "        #take the average saleprice\n",
    "        print(housePrice.mean(axis=1))\n",
    "    elif prediction == \"N\":\n",
    "        return rmsle(housePrice.mean(axis=1),testSet)\n",
    "        \n",
    "    \n",
    "uniformKNN(myTest1, myData, salePrice1,40,\"Y\")\n",
    "\n"
   ]
  },
  {
   "cell_type": "code",
   "execution_count": 399,
   "metadata": {},
   "outputs": [
    {
     "name": "stdout",
     "output_type": "stream",
     "text": [
      "      OverallQual  GrLivArea  GarageCars  GarageArea  TotalBsmtSF  1stFlrSF  \\\n",
      "0               7       1710           2         548          856       856   \n",
      "1               6       1262           2         460         1262      1262   \n",
      "2               7       1786           2         608          920       920   \n",
      "3               7       1717           3         642          756       961   \n",
      "4               8       2198           3         836         1145      1145   \n",
      "5               5       1362           2         480          796       796   \n",
      "6               8       1694           2         636         1686      1694   \n",
      "7               7       2090           2         484         1107      1107   \n",
      "8               7       1774           2         468          952      1022   \n",
      "9               5       1077           1         205          991      1077   \n",
      "10              5       1040           1         384         1040      1040   \n",
      "11              9       2324           3         736         1175      1182   \n",
      "12              5        912           1         352          912       912   \n",
      "13              7       1494           3         840         1494      1494   \n",
      "14              6       1253           1         352         1253      1253   \n",
      "15              7        854           2         576          832       854   \n",
      "16              6       1004           2         480         1004      1004   \n",
      "17              4       1296           2         516            0      1296   \n",
      "18              5       1114           2         576         1114      1114   \n",
      "19              5       1339           1         294         1029      1339   \n",
      "20              8       2376           3         853         1158      1158   \n",
      "21              7       1108           1         280          637      1108   \n",
      "22              8       1795           2         534         1777      1795   \n",
      "23              5       1060           2         572         1040      1060   \n",
      "24              5       1060           1         270         1060      1060   \n",
      "25              8       1600           3         890         1566      1600   \n",
      "26              5        900           2         576          900       900   \n",
      "27              8       1704           3         772         1704      1704   \n",
      "28              5       1600           1         319         1484      1600   \n",
      "29              4        520           1         240          520       520   \n",
      "...           ...        ...         ...         ...          ...       ...   \n",
      "1430            5       1838           2         372          732       734   \n",
      "1431            6        958           2         440          958       958   \n",
      "1432            4        968           1         216          656       968   \n",
      "1433            6       1792           2         451          936       962   \n",
      "1434            5       1126           2         484         1126      1126   \n",
      "1435            6       1537           2         462         1319      1537   \n",
      "1436            4        864           2         528          864       864   \n",
      "1437            8       1932           3         774         1932      1932   \n",
      "1438            6       1236           2         923          912      1236   \n",
      "1439            7       1725           2         550          539      1040   \n",
      "1440            6       2555           2         672          588      1423   \n",
      "1441            6        848           2         420          848       848   \n",
      "1442           10       2007           3         812         1017      1026   \n",
      "1443            6        952           1         192          952       952   \n",
      "1444            7       1422           2         626         1422      1422   \n",
      "1445            6        913           1         240          814       913   \n",
      "1446            5       1188           1         312         1188      1188   \n",
      "1447            8       2090           2         556         1220      1220   \n",
      "1448            4       1346           1         384          560       796   \n",
      "1449            5        630           0           0          630       630   \n",
      "1450            5       1792           0           0          896       896   \n",
      "1451            8       1578           3         840         1573      1578   \n",
      "1452            5       1072           2         525          547      1072   \n",
      "1453            5       1140           0           0         1140      1140   \n",
      "1454            7       1221           2         400         1221      1221   \n",
      "1455            6       1647           2         460          953       953   \n",
      "1456            6       2073           2         500         1542      2073   \n",
      "1457            7       2340           1         252         1152      1188   \n",
      "1458            5       1078           1         240         1078      1078   \n",
      "1459            5       1256           1         276         1256      1256   \n",
      "\n",
      "      FullBath  TotRmsAbvGrd  YearBuilt  YearRemodAdd  GarageYrBlt  \\\n",
      "0            2             8       2003          2003       2003.0   \n",
      "1            2             6       1976          1976       1976.0   \n",
      "2            2             6       2001          2002       2001.0   \n",
      "3            1             7       1915          1970       1998.0   \n",
      "4            2             9       2000          2000       2000.0   \n",
      "5            1             5       1993          1995       1993.0   \n",
      "6            2             7       2004          2005       2004.0   \n",
      "7            2             7       1973          1973       1973.0   \n",
      "8            2             8       1931          1950       1931.0   \n",
      "9            1             5       1939          1950       1939.0   \n",
      "10           1             5       1965          1965       1965.0   \n",
      "11           3            11       2005          2006       2005.0   \n",
      "12           1             4       1962          1962       1962.0   \n",
      "13           2             7       2006          2007       2006.0   \n",
      "14           1             5       1960          1960       1960.0   \n",
      "15           1             5       1929          2001       1991.0   \n",
      "16           1             5       1970          1970       1970.0   \n",
      "17           2             6       1967          1967       1967.0   \n",
      "18           1             6       2004          2004       2004.0   \n",
      "19           1             6       1958          1965       1958.0   \n",
      "20           3             9       2005          2006       2005.0   \n",
      "21           1             6       1930          1950       1930.0   \n",
      "22           2             7       2002          2002       2002.0   \n",
      "23           1             6       1976          1976       1976.0   \n",
      "24           1             6       1968          2001       1968.0   \n",
      "25           2             7       2007          2007       2007.0   \n",
      "26           1             5       1951          2000       2005.0   \n",
      "27           2             7       2007          2008       2008.0   \n",
      "28           1             6       1957          1997       1957.0   \n",
      "29           1             4       1927          1950       1920.0   \n",
      "...        ...           ...        ...           ...          ...   \n",
      "1430         2             7       2005          2005       2005.0   \n",
      "1431         2             5       1976          1976       1976.0   \n",
      "1432         2             5       1927          2007       1928.0   \n",
      "1433         2             8       2000          2000       2000.0   \n",
      "1434         2             5       1977          1977       1977.0   \n",
      "1435         1             7       1962          2005       1962.0   \n",
      "1436         1             5       1971          1971       1974.0   \n",
      "1437         2             7       2008          2008       2008.0   \n",
      "1438         1             6       1957          1996       1957.0   \n",
      "1439         2             6       1979          1979       1979.0   \n",
      "1440         2            11       1922          1994       1993.0   \n",
      "1441         1             3       2004          2004       2004.0   \n",
      "1442         2            10       2008          2008       2008.0   \n",
      "1443         1             4       1916          1950       1916.0   \n",
      "1444         2             7       2004          2004       2004.0   \n",
      "1445         1             6       1966          1966       1990.0   \n",
      "1446         1             6       1962          1962       1962.0   \n",
      "1447         2             8       1995          1996       1995.0   \n",
      "1448         1             6       1910          2000       1950.0   \n",
      "1449         1             3       1970          1970       1980.0   \n",
      "1450         2             8       1974          1974       1980.0   \n",
      "1451         2             7       2008          2009       2008.0   \n",
      "1452         1             5       2005          2005       2005.0   \n",
      "1453         1             6       2006          2006       1980.0   \n",
      "1454         2             6       2004          2005       2004.0   \n",
      "1455         2             7       1999          2000       1999.0   \n",
      "1456         2             7       1978          1988       1978.0   \n",
      "1457         2             9       1941          2006       1941.0   \n",
      "1458         1             5       1950          1996       1950.0   \n",
      "1459         1             6       1965          1965       1965.0   \n",
      "\n",
      "      MasVnrArea  Fireplaces  \n",
      "0          196.0           0  \n",
      "1            0.0           1  \n",
      "2          162.0           1  \n",
      "3            0.0           1  \n",
      "4          350.0           1  \n",
      "5            0.0           0  \n",
      "6          186.0           1  \n",
      "7          240.0           2  \n",
      "8            0.0           2  \n",
      "9            0.0           2  \n",
      "10           0.0           0  \n",
      "11         286.0           2  \n",
      "12           0.0           0  \n",
      "13         306.0           1  \n",
      "14         212.0           1  \n",
      "15           0.0           0  \n",
      "16         180.0           1  \n",
      "17           0.0           0  \n",
      "18           0.0           0  \n",
      "19           0.0           0  \n",
      "20         380.0           1  \n",
      "21           0.0           1  \n",
      "22         281.0           1  \n",
      "23           0.0           1  \n",
      "24           0.0           1  \n",
      "25         640.0           1  \n",
      "26           0.0           0  \n",
      "27         200.0           1  \n",
      "28           0.0           2  \n",
      "29           0.0           0  \n",
      "...          ...         ...  \n",
      "1430         0.0           1  \n",
      "1431         0.0           0  \n",
      "1432         0.0           0  \n",
      "1433       318.0           1  \n",
      "1434         0.0           1  \n",
      "1435       237.0           1  \n",
      "1436         0.0           0  \n",
      "1437       426.0           1  \n",
      "1438         0.0           0  \n",
      "1439        96.0           1  \n",
      "1440         0.0           1  \n",
      "1441       147.0           1  \n",
      "1442       160.0           1  \n",
      "1443         0.0           1  \n",
      "1444       106.0           0  \n",
      "1445         0.0           0  \n",
      "1446       189.0           0  \n",
      "1447       438.0           1  \n",
      "1448         0.0           0  \n",
      "1449         0.0           0  \n",
      "1450         0.0           0  \n",
      "1451       194.0           1  \n",
      "1452        80.0           0  \n",
      "1453         0.0           0  \n",
      "1454         0.0           0  \n",
      "1455         0.0           1  \n",
      "1456       119.0           2  \n",
      "1457         0.0           2  \n",
      "1458         0.0           0  \n",
      "1459         0.0           0  \n",
      "\n",
      "[1460 rows x 13 columns]\n"
     ]
    }
   ],
   "source": [
    "from sklearn.feature_selection import SelectKBest\n",
    "from sklearn.feature_selection import chi2\n",
    "from sklearn.feature_selection import f_regression\n",
    "from sklearn.feature_selection import mutual_info_regression\n",
    "from sklearn import preprocessing\n",
    "import warnings\n",
    "warnings.filterwarnings('ignore')\n",
    "corrmat = rawData.corr()\n",
    "top = corrmat.nlargest(20, 'SalePrice').index  # Find the index of top 10 highest correlated variables\n",
    "salePrice = rawData.SalePrice \n",
    "newData = rawData[top[1:14]] #select the top 10 highest correlated variables\n",
    "\n",
    "newData.GarageYrBlt = newData.GarageYrBlt.fillna(value = newData.GarageYrBlt.median())\n",
    "newData.MasVnrArea = newData.MasVnrArea.fillna(0)\n",
    "print(newData)\n",
    "min_max_scale = preprocessing.MinMaxScaler()\n",
    "newData2 = newData.copy()\n",
    "dataNew = SelectKBest(chi2,8).fit(newData2, salePrice) #use \n",
    "newData3 = newData2.iloc[:,dataNew.get_support()]\n",
    "newData3 = min_max_scale.fit_transform(newData3) #standarize the data\n"
   ]
  },
  {
   "cell_type": "code",
   "execution_count": 400,
   "metadata": {},
   "outputs": [
    {
     "name": "stdout",
     "output_type": "stream",
     "text": [
      "0.17369208354795662\n"
     ]
    }
   ],
   "source": [
    "from sklearn.model_selection import KFold\n",
    "X = newData3\n",
    "y = np.array(rawData[\"SalePrice\"])\n",
    "kf = KFold(n_splits=10,random_state=None, shuffle=True)\n",
    "AvgRsmle = []\n",
    "#K-fold cross validation\n",
    "for train_index, test_index in kf.split(X):\n",
    "    X_train, X_test = X[train_index], X[test_index]\n",
    "    y_train, y_test = y[train_index], y[test_index]\n",
    "    AvgRsmle.append(uniformKNN(X_test, X_train,y_train,8,\"N\",y_test))\n",
    "print(np.array(AvgRsmle).mean())\n"
   ]
  },
  {
   "cell_type": "code",
   "execution_count": 401,
   "metadata": {},
   "outputs": [],
   "source": [
    "#Weighted KNN with manhantan distance\n",
    "def manhantanKNN(myTest, trainingData, Y_train, k, prediction, testSet=None):\n",
    "    testLength = myTest.shape[0]\n",
    "    trainLenth = trainingData.shape[0]\n",
    "    #convert it into a matrix \n",
    "    Y_train = np.array(Y_train)\n",
    "    trainingData = np.array(trainingData)\n",
    "    #matrix substraction and reshape\n",
    "\n",
    "    newArray = (np.abs(myTest[:,np.newaxis] - trainingData)).reshape(-1,myTest.shape[1])\n",
    "    #sum up each row\n",
    "    newArray2 = newArray.sum(axis=1)\n",
    "    #reshape the matrix\n",
    "    array2 = newArray2.reshape(testLength,trainLenth)\n",
    "    #sort each row and display by index\n",
    "    getIndex = np.argsort(array2)\n",
    "    #take the K nearest neighbors\n",
    "    getIndex2 = getIndex[:,:k]\n",
    "    weightsMatrix = np.sort(array2)\n",
    "    weights = weightsMatrix[:,:k]\n",
    "    weights =weights+1\n",
    "    weights = weights**(-1)\n",
    "    \n",
    "    Y_train = Y_train.reshape(1,-1)\n",
    "    #query the house price\n",
    "    housePrice = Y_train[0][getIndex2]\n",
    "    weightedHouseprice = weights*housePrice\n",
    "    \n",
    "    if prediction == \"Y\":\n",
    "        #take the average saleprice\n",
    "        return (weightedHouseprice.sum(axis=1)/np.sum(weights,axis=1))\n",
    "    elif prediction == \"N\":\n",
    "        return rmsle(weightedHouseprice.sum(axis=1)/np.sum(weights,axis=1),testSet)\n",
    "        "
   ]
  },
  {
   "cell_type": "code",
   "execution_count": 402,
   "metadata": {},
   "outputs": [
    {
     "name": "stdout",
     "output_type": "stream",
     "text": [
      "0.16770578501853947\n"
     ]
    }
   ],
   "source": [
    "test1 = testData[top[1:14]]\n",
    "test2 = test1.iloc[:,dataNew.get_support()]\n",
    "test2 = test2.fillna(test2.mean())\n",
    "# test2[\"newQuality\"] = test2.OverallQual**2\n",
    "# test2[\"newGara\"] = test2.GarageArea*test2[\"1stFlrSF\"]\n",
    "test3 = min_max_scale.fit_transform(test2)\n",
    "X = newData3\n",
    "y = np.array(rawData[\"SalePrice\"])\n",
    "\n",
    "kf = KFold(n_splits=12,random_state=None, shuffle=True)\n",
    "AvgRsmle = []\n",
    "#K-fold cross validation\n",
    "for train_index, test_index in kf.split(X):\n",
    "    X_train, X_test = X[train_index], X[test_index]\n",
    "    y_train, y_test = y[train_index], y[test_index]\n",
    "    AvgRsmle.append(manhantanKNN(X_test, X_train,y_train, 8,\"N\",y_test))\n",
    "print(np.array(AvgRsmle).mean())\n"
   ]
  },
  {
   "cell_type": "code",
   "execution_count": null,
   "metadata": {},
   "outputs": [],
   "source": [
    "\n"
   ]
  },
  {
   "cell_type": "code",
   "execution_count": 381,
   "metadata": {},
   "outputs": [],
   "source": [
    "Predmean = manhantanKNN(test3, X,y,8,\"Y\")\n",
    "myId = pd.DataFrame(testData.Id)\n",
    "prediction = pd.DataFrame(Predmean.reshape(-1,1), columns=[\"SalePrice\"])\n",
    "\n",
    "prediciton2 = pd.concat([myId,prediction], axis=1,sort=False)\n",
    "prediciton2.to_csv(\"Mysubmission1.csv\",index=False) #output it into a csv file\n",
    "\n"
   ]
  },
  {
   "cell_type": "code",
   "execution_count": null,
   "metadata": {},
   "outputs": [],
   "source": [
    "\n",
    "\n"
   ]
  },
  {
   "cell_type": "code",
   "execution_count": null,
   "metadata": {},
   "outputs": [],
   "source": []
  }
 ],
 "metadata": {
  "kernelspec": {
   "display_name": "Python 3",
   "language": "python",
   "name": "python3"
  },
  "language_info": {
   "codemirror_mode": {
    "name": "ipython",
    "version": 3
   },
   "file_extension": ".py",
   "mimetype": "text/x-python",
   "name": "python",
   "nbconvert_exporter": "python",
   "pygments_lexer": "ipython3",
   "version": "3.6.4"
  }
 },
 "nbformat": 4,
 "nbformat_minor": 2
}
